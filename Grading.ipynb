{
  "nbformat": 4,
  "nbformat_minor": 0,
  "metadata": {
    "colab": {
      "provenance": [],
      "authorship_tag": "ABX9TyNG3w+MxAM+dUcXG/0128aE",
      "include_colab_link": true
    },
    "kernelspec": {
      "name": "python3",
      "display_name": "Python 3"
    },
    "language_info": {
      "name": "python"
    }
  },
  "cells": [
    {
      "cell_type": "markdown",
      "metadata": {
        "id": "view-in-github",
        "colab_type": "text"
      },
      "source": [
        "<a href=\"https://colab.research.google.com/github/Arshi891/Trial/blob/main/Grading.ipynb\" target=\"_parent\"><img src=\"https://colab.research.google.com/assets/colab-badge.svg\" alt=\"Open In Colab\"/></a>"
      ]
    },
    {
      "cell_type": "code",
      "execution_count": null,
      "metadata": {
        "colab": {
          "base_uri": "https://localhost:8080/"
        },
        "id": "qrCM202z-WD7",
        "outputId": "214d1a68-861c-498c-8974-b9dcf4fbdf97"
      },
      "outputs": [
        {
          "output_type": "stream",
          "name": "stdout",
          "text": [
            "enter your marks80\n",
            "A grade\n"
          ]
        }
      ],
      "source": [
        "A=int(input(\"enter your marks\"))\n",
        "if (A<35):\n",
        "  print (\"fail\")\n",
        "elif (A<60):\n",
        "  print (\"c grade\")\n",
        "elif (A<80):\n",
        "  print (\"B grade\")\n",
        "elif (A<=100):\n",
        "  print (\"A grade\")\n",
        "else:\n",
        "  print (\"wrong input\")"
      ]
    }
  ]
}