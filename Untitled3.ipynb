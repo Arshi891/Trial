{
  "nbformat": 4,
  "nbformat_minor": 0,
  "metadata": {
    "colab": {
      "provenance": [],
      "authorship_tag": "ABX9TyPVVA0iXOUv2VYrZUDRSGLU",
      "include_colab_link": true
    },
    "kernelspec": {
      "name": "python3",
      "display_name": "Python 3"
    },
    "language_info": {
      "name": "python"
    }
  },
  "cells": [
    {
      "cell_type": "markdown",
      "metadata": {
        "id": "view-in-github",
        "colab_type": "text"
      },
      "source": [
        "<a href=\"https://colab.research.google.com/github/Arshi891/Trial/blob/main/Untitled3.ipynb\" target=\"_parent\"><img src=\"https://colab.research.google.com/assets/colab-badge.svg\" alt=\"Open In Colab\"/></a>"
      ]
    },
    {
      "cell_type": "code",
      "execution_count": null,
      "metadata": {
        "colab": {
          "base_uri": "https://localhost:8080/"
        },
        "id": "TD_aPy5bydNN",
        "outputId": "d5f63bf0-2775-431a-9c13-3ef1f99233b6"
      },
      "outputs": [
        {
          "output_type": "stream",
          "name": "stdout",
          "text": [
            "11\n"
          ]
        }
      ],
      "source": [
        "A=5\n",
        "B=6\n",
        "Z=A+B\n",
        "print (Z)"
      ]
    },
    {
      "cell_type": "code",
      "source": [
        "A=5\n",
        "B=6\n",
        "Z=A+B\n",
        "print (Z)"
      ],
      "metadata": {
        "id": "NsoznLzhyzCy"
      },
      "execution_count": null,
      "outputs": []
    }
  ]
}